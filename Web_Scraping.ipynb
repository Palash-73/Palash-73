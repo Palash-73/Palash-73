{
  "nbformat": 4,
  "nbformat_minor": 0,
  "metadata": {
    "colab": {
      "provenance": [],
      "authorship_tag": "ABX9TyO6jNHCKb98N5zxL+P4qDPI",
      "include_colab_link": true
    },
    "kernelspec": {
      "name": "python3",
      "display_name": "Python 3"
    },
    "language_info": {
      "name": "python"
    }
  },
  "cells": [
    {
      "cell_type": "markdown",
      "metadata": {
        "id": "view-in-github",
        "colab_type": "text"
      },
      "source": [
        "<a href=\"https://colab.research.google.com/github/Palash-73/Palash-73/blob/main/Web_Scraping.ipynb\" target=\"_parent\"><img src=\"https://colab.research.google.com/assets/colab-badge.svg\" alt=\"Open In Colab\"/></a>"
      ]
    },
    {
      "cell_type": "code",
      "source": [
        "import pandas as pd\n",
        "import requests\n",
        "from bs4 import BeautifulSoup"
      ],
      "metadata": {
        "id": "mbF6POKGdQYv"
      },
      "execution_count": 61,
      "outputs": []
    },
    {
      "cell_type": "code",
      "source": [
        "product_name = []\n",
        "prices = []\n",
        "description = []\n",
        "\n"
      ],
      "metadata": {
        "id": "uacbY0uadQT4"
      },
      "execution_count": 62,
      "outputs": []
    },
    {
      "cell_type": "code",
      "source": [
        "for i in range(1,3):\n",
        "    url = \"https://webscraper.io/test-sites/e-commerce/static/phones/touch?page=\"+str(i)\n",
        "    r = requests.get(url)\n",
        "    soup = BeautifulSoup(r.text,\"html.parser\")\n",
        "    box = soup.find(\"div\",class_ = \"col-lg-9\")\n",
        "    np = soup.find(\"a\", class_ = \"page-link\").get(\"href\")\n",
        "    cnp = \"https://webscraper.io\"+np\n",
        "    # print(cnp)\n",
        "\n",
        "    names=box.find_all(\"a\", class_ = \"title\")\n",
        "    for i in names:\n",
        "      name = i.text\n",
        "      product_name.append(name)\n",
        "    # print(product_name)\n",
        "\n",
        "    price = box.find_all(\"h4\",class_ = \"price float-end card-title pull-right\")\n",
        "    for i in price:\n",
        "      p = i.text\n",
        "      prices.append(p)\n",
        "    # print(prices)\n",
        "\n",
        "    desc = box.find_all(\"p\",class_ = \"description card-text\")\n",
        "    for i in desc:\n",
        "      d = i.text\n",
        "      description.append(d)\n",
        "    # print(description)\n",
        "\n",
        "df = pd.DataFrame({\"Product Name\":product_name,\"Prices\":prices,\"Description\":description})\n",
        "print(df)"
      ],
      "metadata": {
        "colab": {
          "base_uri": "https://localhost:8080/"
        },
        "id": "nmewgVD3dQRd",
        "outputId": "14a22930-19e3-4de9-c7c4-bd747f824c43"
      },
      "execution_count": 63,
      "outputs": [
        {
          "output_type": "stream",
          "name": "stdout",
          "text": [
            "     Product Name   Prices             Description\n",
            "0       Nokia 123   $24.99           7 day battery\n",
            "1      LG Optimus   $57.99             3.2\" screen\n",
            "2  Samsung Galaxy   $93.99      5 mpx. Android 5.0\n",
            "3         Nokia X  $109.99  Andoid, Jolla dualboot\n",
            "4     Sony Xperia  $118.99         GPS, waterproof\n",
            "5     Ubuntu Edge  $499.99          Sapphire glass\n",
            "6          Iphone  $899.99                   White\n",
            "7          Iphone  $899.99                  Silver\n",
            "8          Iphone  $899.99                   Black\n"
          ]
        }
      ]
    },
    {
      "cell_type": "code",
      "source": [
        "from google.colab import files\n",
        "df.to_csv('web_scraping_sample.csv')\n",
        "files.download('web_scraping_sample.csv')"
      ],
      "metadata": {
        "colab": {
          "base_uri": "https://localhost:8080/",
          "height": 17
        },
        "id": "EBF4uCDIdOC7",
        "outputId": "9caf4415-a7d9-4a84-bbbf-8379c968e0be"
      },
      "execution_count": 65,
      "outputs": [
        {
          "output_type": "display_data",
          "data": {
            "text/plain": [
              "<IPython.core.display.Javascript object>"
            ],
            "application/javascript": [
              "\n",
              "    async function download(id, filename, size) {\n",
              "      if (!google.colab.kernel.accessAllowed) {\n",
              "        return;\n",
              "      }\n",
              "      const div = document.createElement('div');\n",
              "      const label = document.createElement('label');\n",
              "      label.textContent = `Downloading \"${filename}\": `;\n",
              "      div.appendChild(label);\n",
              "      const progress = document.createElement('progress');\n",
              "      progress.max = size;\n",
              "      div.appendChild(progress);\n",
              "      document.body.appendChild(div);\n",
              "\n",
              "      const buffers = [];\n",
              "      let downloaded = 0;\n",
              "\n",
              "      const channel = await google.colab.kernel.comms.open(id);\n",
              "      // Send a message to notify the kernel that we're ready.\n",
              "      channel.send({})\n",
              "\n",
              "      for await (const message of channel.messages) {\n",
              "        // Send a message to notify the kernel that we're ready.\n",
              "        channel.send({})\n",
              "        if (message.buffers) {\n",
              "          for (const buffer of message.buffers) {\n",
              "            buffers.push(buffer);\n",
              "            downloaded += buffer.byteLength;\n",
              "            progress.value = downloaded;\n",
              "          }\n",
              "        }\n",
              "      }\n",
              "      const blob = new Blob(buffers, {type: 'application/binary'});\n",
              "      const a = document.createElement('a');\n",
              "      a.href = window.URL.createObjectURL(blob);\n",
              "      a.download = filename;\n",
              "      div.appendChild(a);\n",
              "      a.click();\n",
              "      div.remove();\n",
              "    }\n",
              "  "
            ]
          },
          "metadata": {}
        },
        {
          "output_type": "display_data",
          "data": {
            "text/plain": [
              "<IPython.core.display.Javascript object>"
            ],
            "application/javascript": [
              "download(\"download_8ae688e5-fc23-4ab8-b11a-2d5ee6d6ba6b\", \"web_scraping_sample.csv\", 334)"
            ]
          },
          "metadata": {}
        }
      ]
    },
    {
      "cell_type": "code",
      "source": [],
      "metadata": {
        "id": "-YTYxIvsdOjU"
      },
      "execution_count": 63,
      "outputs": []
    }
  ]
}